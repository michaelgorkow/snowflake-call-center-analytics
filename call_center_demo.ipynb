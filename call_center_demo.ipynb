{
 "metadata": {
  "kernelspec": {
   "display_name": "Streamlit Notebook",
   "name": "streamlit"
  },
  "lastEditStatus": {
   "notebookId": "uakyg4rkwanbwqkrvqde",
   "authorId": "3365054651094",
   "authorName": "ADMIN",
   "authorEmail": "michael.gorkow@snowflake.com",
   "sessionId": "7064dbf9-e0aa-4b59-8125-19152b122582",
   "lastEditTime": 1755139067895
  }
 },
 "nbformat_minor": 5,
 "nbformat": 4,
 "cells": [
  {
   "cell_type": "markdown",
   "id": "b3a91a73-3981-4024-936c-140de0dc7ff9",
   "metadata": {
    "name": "IMPORTS_1",
    "collapsed": false
   },
   "source": "# Imports"
  },
  {
   "cell_type": "code",
   "id": "f6a6037b-1381-4707-a0e9-6bcbc799b0b9",
   "metadata": {
    "language": "python",
    "name": "IMPORTS_2"
   },
   "outputs": [],
   "source": "from snowflake.snowpark.context import get_active_session\nfrom snowflake.snowpark import functions as F\nfrom snowflake.snowpark.types import StringType\n\nsession = get_active_session()",
   "execution_count": null
  },
  {
   "cell_type": "markdown",
   "id": "f4216592-f524-43e4-b7c5-9f5783836d2c",
   "metadata": {
    "name": "TRANSCRIBE_1",
    "collapsed": false
   },
   "source": "# 1. Transcribe Audio Files\n\nEasily transcribe audio files from stages using Snowflake's built-in [AI_TRANSCRIBE](https://docs.snowflake.com/en/sql-reference/functions/ai_transcribe) function."
  },
  {
   "cell_type": "code",
   "id": "4ea0120b-6c15-4546-aecf-51f392a12189",
   "metadata": {
    "language": "sql",
    "name": "TRANSCRIBE_2"
   },
   "outputs": [],
   "source": "-- Show files in stage\nSELECT * FROM DIRECTORY(@AUDIO_FILES);",
   "execution_count": null
  },
  {
   "cell_type": "code",
   "id": "94bdf31f-1a93-4651-9956-15ec1160fc09",
   "metadata": {
    "language": "sql",
    "name": "TRANSCRIBE_3"
   },
   "outputs": [],
   "source": "CREATE OR REPLACE TABLE RAW_TRANSCRIPTIONS AS\nWITH CALL_CENTER_TRANSCRIPTIONS AS (\n    SELECT\n        -- Extract metadata from path\n        split(RELATIVE_PATH,'/')[1]::DATE AS DATE,\n        split(RELATIVE_PATH,'/')[2]::string AS AUDIO_FILE,\n        RELATIVE_PATH AS AUDIOFILE_RELATIVE_PATH,\n        \n        -- Transcribe audio file\n        AI_TRANSCRIBE(TO_FILE('@AUDIO_FILES', RELATIVE_PATH)) AS TRANSCRIPTION,\n        TRANSCRIPTION['text']::VARCHAR AS TRANSCRIPTION_RAW_TEXT,\n        TRANSCRIPTION['audio_duration']::FLOAT AS TRANSCRIPTION_DURATION_SECONDS,\n        GET_PRESIGNED_URL('@AUDIO_FILES', RELATIVE_PATH) AS PRESIGNED_URL\n    FROM DIRECTORY('@AUDIO_FILES')\n)\nSELECT \n    DATE,\n    AUDIO_FILE,\n    AUDIOFILE_RELATIVE_PATH,\n    TRANSCRIPTION_RAW_TEXT,\n    TRANSCRIPTION_DURATION_SECONDS,\n    PRESIGNED_URL\nFROM\n    CALL_CENTER_TRANSCRIPTIONS;\n\nSELECT * FROM RAW_TRANSCRIPTIONS",
   "execution_count": null
  },
  {
   "cell_type": "markdown",
   "id": "8d76aa81-3ab3-4fc8-bfe4-51491eb38b35",
   "metadata": {
    "name": "LLM_ANALYSIS_1",
    "collapsed": false
   },
   "source": "# 2. LLMs for Structuring and Analyzing Calls\n\nWe use Snowflake [AI_COMPLETE](https://docs.snowflake.com/en/sql-reference/functions/ai_complete-single-string) function in combination with [PROMPT](https://docs.snowflake.com/en/sql-reference/functions/prompt) to use templates for prompting LLMs.  \nWith such templates we can easily structure the transcription and extract key information in a structured manner.\n\nIn addition we use [SUMMARIZE](https://docs.snowflake.com/en/sql-reference/functions/summarize-snowflake-cortex) to create short summaries for all calls and [AI_SENTIMENT](https://docs.snowflake.com/en/sql-reference/functions/ai_sentiment) to analyze each call's sentiment."
  },
  {
   "cell_type": "code",
   "id": "c82e3c98-07c2-4869-a58d-bbe9554a72e4",
   "metadata": {
    "language": "sql",
    "name": "LLM_ANALYSIS_2"
   },
   "outputs": [],
   "source": "CREATE OR REPLACE TABLE ANALYZED_TRANSCRIPTIONS AS\nWITH TRANSCRIPTIONS_INSIGHTS AS (\n    SELECT\n        -- Structure the conversation\n        PROMPT('\n            Convert this transcript to a structured conversation format:\n            Representative: [Name]\n            Customer: [Name]\n            \n            [Conversation lines...]\n            \n            <transcript>{0}</transcript>\n            ',\n            TRANSCRIPTION_RAW_TEXT\n            ) AS PROMPT_STRUCTURE_CONVERSATION,\n        AI_COMPLETE('claude-3-5-sonnet', PROMPT_STRUCTURE_CONVERSATION) AS CONVERSATION_STRUCTURED,\n        \n        -- Create a conversation summary\n        SNOWFLAKE.CORTEX.SUMMARIZE(CONVERSATION_STRUCTURED) AS CONVERSATION_SUMMARY,\n\n        -- Create a conversation sentiment\n        AI_SENTIMENT(CONVERSATION_STRUCTURED) AS CONVERSATION_SENTIMENT,\n\n        -- Extract details from conversation\n        PROMPT('\n        You are analyzing call center transcripts to extract specific information. \n        Extract the following data from the transcript and return ONLY a valid JSON response with no additional text.\n        \"representative\": \"string\",\n        \"customer\": \"string\", \n        \"claim_number\": \"string\",\n        \"policy_number\": \"string\",\n        \"call_intent\": \"string\",\n        \"call_to_action\": \"string\",\n        \"issue\": \"string\",\n        \"resolution\": \"string\",\n        \"next_steps\": \"string\",\n        \"mode_of_update\": \"string\",\n        \"purpose_of_call\": \"string\",\n        \"response_mode\": \"string\",\n        \"first_call_resolution\": number,\n        \"call_quality\": \"string\",\n        \"net_promoter_score\": integer\n        \n        FIELD SPECIFICATIONS:\n        \n        Representative:\n        - representative name\n\n        Customer:\n        - customer name\n        \n        Claim Number:\n        - Format: \"CLM\" + digits (e.g., \"CLM123456\") OR \"NotFound\"  \n        - Convert variations: \"CLM 456789\" → \"CLM456789\", \"CLM 789-012\" → \"CLM789012\"\n        - If no valid number found: \"NotFound\"\n\n        Policy Number:\n        - Format: \"POL\" + digits (e.g., \"POL123456\") OR \"NotFound\"\n        - Convert variations: \"PAUL 348743\" → \"POL348743\", \"POL 123-456\" → \"POL123456\", \"POLL123456\" → \"POL123456\"\n        - If no valid number found: \"NotFound\"\n        \n        Call Intent:\n        - Maximum 2 words\n        - Cannot be \"collision with animal\"\n\n        Call to Action:\n        - brief action description\n\n        Isse:\n        - brief issue description\n\n        Resolution:\n        - brief resolution\n\n        Next Steps:\n        - brief next steps\n\n        Mode of Update:\n        - Values: \"Email\", \"Phone\", or \"Portal\"\n\n        Purpose of Call:\n        - brief purpose\n\n        Response Mode:\n        - Follow-up method\n        \n        First Call Resolution:\n        - Score between 0.01-0.99\n        - 0.01-0.30: Issue not resolved, requires follow-up\n        - 0.31-0.70: Partial resolution, some follow-up needed\n        - 0.71-0.99: Issue fully resolved in single call\n        \n        Call Quality:\n        - Values: \"Good\", \"Average\", or \"Poor\"\n        - Based on communication skills, protocol adherence, customer handling\n        \n        Net Promoter Score:\n        - Integer between 10-100\n        - Consider resolution time and representative skill\n        \n        TRANSCRIPT TO ANALYZE:\n        {0}\n        ', \n        CONVERSATION_STRUCTURED) AS PROMPT_EXTRACT_CONVERSATION_DETAILS,\n        AI_COMPLETE(\n            model => 'claude-3-5-sonnet',\n            prompt => PROMPT_EXTRACT_CONVERSATION_DETAILS,\n            response_format => {\n                'type':'json',\n                'schema':{\n                    'type':'object',\n                    'properties':{\n                        'representative':{'type':'string'},\n                        'customer':{'type':'string'},\n                        'claim_number':{'type':'string'},\n                        'policy_number':{'type':'string'},\n                        'call_intent':{'type':'string'},\n                        'call_to_action':{'type':'string'},\n                        'issue':{'type':'string'},\n                        'resolution':{'type':'string'},\n                        'next_steps':{'type':'string'},\n                        'mode_of_update':{'type':'string'},\n                        'purpose_of_call':{'type':'string'},\n                        'response_mode':{'type':'string'},\n                        'first_call_resolution':{'type':'number'},\n                        'call_quality':{'type':'string'},\n                        'net_promoter_score':{'type':'integer'}\n                    }\n                }\n            }\n        ) AS _CONVERSATION_DETAILS,\n    try_parse_json(_CONVERSATION_DETAILS) AS CONVERSATION_DETAILS,\n\n    -- Other columns\n    DATE,\n    AUDIO_FILE,\n    AUDIOFILE_RELATIVE_PATH,\n    TRANSCRIPTION_RAW_TEXT,\n    TRANSCRIPTION_DURATION_SECONDS,\n    PRESIGNED_URL\n    \n    FROM\n        RAW_TRANSCRIPTIONS\n)\nSELECT \n    DATE,\n    AUDIO_FILE,\n    AUDIOFILE_RELATIVE_PATH,\n    TRANSCRIPTION_RAW_TEXT,\n    TRANSCRIPTION_DURATION_SECONDS,\n    CONVERSATION_STRUCTURED,\n    CONVERSATION_SUMMARY,\n    CONVERSATION_SENTIMENT,\n    CONVERSATION_DETAILS,\n    PRESIGNED_URL\nFROM TRANSCRIPTIONS_INSIGHTS;\n\nSELECT * FROM ANALYZED_TRANSCRIPTIONS;",
   "execution_count": null
  },
  {
   "cell_type": "markdown",
   "id": "27780197-e332-4ab5-b8c3-8c084341ee3c",
   "metadata": {
    "name": "BI_READY_TABLE_1",
    "collapsed": false
   },
   "source": "# 3. Create a BI-Ready Table for Call Center Analysis\n\nLet's create a beautiful structured data for our final Call Center Analysis App."
  },
  {
   "cell_type": "code",
   "id": "53e07d54-04d2-4dab-a836-ebf7e4b8551b",
   "metadata": {
    "language": "sql",
    "name": "BI_READY_TABLE_2"
   },
   "outputs": [],
   "source": "CREATE OR REPLACE TABLE ANALYZED_TRANSCRIPTIONS_APP AS \nSELECT \n    DATE,\n    AUDIO_FILE,\n    AUDIOFILE_RELATIVE_PATH,\n    TRANSCRIPTION_DURATION_SECONDS,\n    CONVERSATION_DETAILS['call_to_action']::TEXT as CALL_TO_ACTION,\n    CONVERSATION_DETAILS['claim_number']::TEXT as CLAIM_NUMBER,\n    CONVERSATION_DETAILS['customer']::TEXT as CUSTOMER,\n    CONVERSATION_DETAILS['call_intent']::TEXT as CALL_INTENT,\n    CONVERSATION_DETAILS['issue']::TEXT as ISSUE,\n    CONVERSATION_DETAILS['policy_number']::TEXT as POLICY_NUMBER,\n    CONVERSATION_DETAILS['purpose_of_call']::TEXT as PURPOSE_OF_CALL,\n    CONVERSATION_DETAILS['representative']::TEXT as REPRESENTATIVE,\n    CONVERSATION_DETAILS['resolution']::TEXT as RESOLUTION,\n    CONVERSATION_DETAILS['response_mode']::TEXT as RESPONSE_MODE,\n    CONVERSATION_DETAILS['mode_of_update']::TEXT as MODE_OF_UPDATE,\n    CONVERSATION_DETAILS['next_steps']::TEXT as NEXT_STEPS,\n    IFF(CONVERSATION_SENTIMENT['categories'][0]['sentiment']='positive','Positive','Negative') as CONVERSATION_SENTIMENT,\n    IFF(CONVERSATION_DETAILS['first_call_resolution'] > 0.5,'Yes','No') as FIRST_CALL_RESOLUTION,\n    CONVERSATION_SUMMARY,\n    CONVERSATION_STRUCTURED\nFROM \n    ANALYZED_TRANSCRIPTIONS;\n\nSELECT * FROM ANALYZED_TRANSCRIPTIONS_APP;",
   "execution_count": null
  },
  {
   "cell_type": "markdown",
   "id": "2510712c-44cf-47ae-9dec-450e2b721499",
   "metadata": {
    "name": "AUTOMATE_1",
    "collapsed": false
   },
   "source": "# 4. Automate the entire process in a Stored Procedure\n\nWe don't want to rerun this notebook everytime a new file is uploaded, hence we create a Stored Procedure for it that we can call for new files.  \nThe same procedure can be integrated into the Call Center App to allow ad-hoc analysis of uploaded call recordings."
  },
  {
   "cell_type": "code",
   "id": "eb27cb7d-58c2-4656-8916-f7aea11a5e5a",
   "metadata": {
    "language": "python",
    "name": "AUTOMATE_2"
   },
   "outputs": [],
   "source": "@F.sproc(name=\"process_audio_file\", return_type=StringType(), input_types=[StringType()], packages=[\"snowflake-snowpark-python\"], stage_location='@UDF', is_permanent=True, replace=True)\ndef process_audio_file(session, audio_file_relative_path):\n    session.sql(f\"\"\"\n    -- Transcribe new file and add it to raw transcriptions\n    INSERT INTO RAW_TRANSCRIPTIONS\n    WITH CALL_CENTER_TRANSCRIPTIONS AS (\n        SELECT\n            -- Extract metadata from path\n            split(RELATIVE_PATH,'/')[1]::DATE AS DATE,\n            split(RELATIVE_PATH,'/')[2]::string AS AUDIO_FILE,\n            RELATIVE_PATH AS AUDIOFILE_RELATIVE_PATH,\n            \n            -- Transcribe audio file\n            AI_TRANSCRIBE(TO_FILE('@AUDIO_FILES', RELATIVE_PATH)) AS TRANSCRIPTION,\n            TRANSCRIPTION['text']::VARCHAR AS TRANSCRIPTION_RAW_TEXT,\n            TRANSCRIPTION['audio_duration']::FLOAT AS TRANSCRIPTION_DURATION_SECONDS,\n            GET_PRESIGNED_URL('@AUDIO_FILES', RELATIVE_PATH) AS PRESIGNED_URL\n        FROM DIRECTORY('@AUDIO_FILES')\n        WHERE RELATIVE_PATH = '{audio_file_relative_path}'\n    )\n    SELECT \n        DATE,\n        AUDIO_FILE,\n        AUDIOFILE_RELATIVE_PATH,\n        TRANSCRIPTION_RAW_TEXT,\n        TRANSCRIPTION_DURATION_SECONDS,\n        PRESIGNED_URL\n    FROM\n        CALL_CENTER_TRANSCRIPTIONS\n    \"\"\").collect()\n\n    session.sql(f\"\"\"\n    INSERT INTO ANALYZED_TRANSCRIPTIONS\n    WITH TRANSCRIPTIONS_INSIGHTS AS (\n        SELECT\n            -- Structure the conversation\n            PROMPT('\n                Convert this transcript to a structured conversation format:\n                Representative: [Name]\n                Customer: [Name]\n                \n                [Conversation lines...]\n                \n                <transcript>{{0}}</transcript>\n                ',\n                TRANSCRIPTION_RAW_TEXT\n                ) AS PROMPT_STRUCTURE_CONVERSATION,\n            AI_COMPLETE('claude-3-5-sonnet', PROMPT_STRUCTURE_CONVERSATION) AS CONVERSATION_STRUCTURED,\n            \n            -- Create a conversation summary\n            SNOWFLAKE.CORTEX.SUMMARIZE(CONVERSATION_STRUCTURED) AS CONVERSATION_SUMMARY,\n    \n            -- Create a conversation sentiment\n            AI_SENTIMENT(CONVERSATION_STRUCTURED) AS CONVERSATION_SENTIMENT,\n    \n            -- Extract details from conversation\n            PROMPT('\n            You are analyzing call center transcripts to extract specific information. \n            Extract the following data from the transcript and return ONLY a valid JSON response with no additional text.\n            \"representative\": \"string\",\n            \"customer\": \"string\", \n            \"claim_number\": \"string\",\n            \"policy_number\": \"string\",\n            \"call_intent\": \"string\",\n            \"call_to_action\": \"string\",\n            \"issue\": \"string\",\n            \"resolution\": \"string\",\n            \"next_steps\": \"string\",\n            \"mode_of_update\": \"string\",\n            \"purpose_of_call\": \"string\",\n            \"response_mode\": \"string\",\n            \"first_call_resolution\": number,\n            \"call_quality\": \"string\",\n            \"net_promoter_score\": integer\n            \n            FIELD SPECIFICATIONS:\n            \n            Representative:\n            - representative name\n    \n            Customer:\n            - customer name\n            \n            Claim Number:\n            - Format: \"CLM\" + digits (e.g., \"CLM123456\") OR \"NotFound\"  \n            - Convert variations: \"CLM 456789\" → \"CLM456789\", \"CLM 789-012\" → \"CLM789012\"\n            - If no valid number found: \"NotFound\"\n    \n            Policy Number:\n            - Format: \"POL\" + digits (e.g., \"POL123456\") OR \"NotFound\"\n            - Convert variations: \"PAUL 348743\" → \"POL348743\", \"POL 123-456\" → \"POL123456\", \"POLL123456\" → \"POL123456\"\n            - If no valid number found: \"NotFound\"\n            \n            Call Intent:\n            - Maximum 2 words\n            - Cannot be \"collision with animal\"\n    \n            Call to Action:\n            - brief action description\n    \n            Isse:\n            - brief issue description\n    \n            Resolution:\n            - brief resolution\n    \n            Next Steps:\n            - brief next steps\n    \n            Mode of Update:\n            - Values: \"Email\", \"Phone\", or \"Portal\"\n    \n            Purpose of Call:\n            - brief purpose\n    \n            Response Mode:\n            - Follow-up method\n            \n            First Call Resolution:\n            - Score between 0.01-0.99\n            - 0.01-0.30: Issue not resolved, requires follow-up\n            - 0.31-0.70: Partial resolution, some follow-up needed\n            - 0.71-0.99: Issue fully resolved in single call\n            \n            Call Quality:\n            - Values: \"Good\", \"Average\", or \"Poor\"\n            - Based on communication skills, protocol adherence, customer handling\n            \n            Net Promoter Score:\n            - Integer between 10-100\n            - Consider resolution time and representative skill\n            \n            TRANSCRIPT TO ANALYZE:\n            {{0}}\n            ', \n            CONVERSATION_STRUCTURED) AS PROMPT_EXTRACT_CONVERSATION_DETAILS,\n            AI_COMPLETE(\n                model => 'claude-3-5-sonnet',\n                prompt => PROMPT_EXTRACT_CONVERSATION_DETAILS,\n                response_format => {{\n                    'type':'json',\n                    'schema':{{\n                        'type':'object',\n                        'properties':{{\n                            'representative':{{'type':'string'}},\n                            'customer':{{'type':'string'}},\n                            'claim_number':{{'type':'string'}},\n                            'policy_number':{{'type':'string'}},\n                            'call_intent':{{'type':'string'}},\n                            'call_to_action':{{'type':'string'}},\n                            'issue':{{'type':'string'}},\n                            'resolution':{{'type':'string'}},\n                            'next_steps':{{'type':'string'}},\n                            'mode_of_update':{{'type':'string'}},\n                            'purpose_of_call':{{'type':'string'}},\n                            'response_mode':{{'type':'string'}},\n                            'first_call_resolution':{{'type':'number'}},\n                            'call_quality':{{'type':'string'}},\n                            'net_promoter_score':{{'type':'integer'}}\n                        }}\n                    }}\n                }}\n            ) AS _CONVERSATION_DETAILS,\n        try_parse_json(_CONVERSATION_DETAILS) AS CONVERSATION_DETAILS,\n    \n        -- Other columns\n        DATE,\n        AUDIO_FILE,\n        AUDIOFILE_RELATIVE_PATH,\n        TRANSCRIPTION_RAW_TEXT,\n        TRANSCRIPTION_DURATION_SECONDS,\n        PRESIGNED_URL\n        \n        FROM\n            RAW_TRANSCRIPTIONS\n        WHERE\n            AUDIOFILE_RELATIVE_PATH = '{audio_file_relative_path}'\n    )\n    SELECT \n        DATE,\n        AUDIO_FILE,\n        AUDIOFILE_RELATIVE_PATH,\n        TRANSCRIPTION_RAW_TEXT,\n        TRANSCRIPTION_DURATION_SECONDS,\n        CONVERSATION_STRUCTURED,\n        CONVERSATION_SUMMARY,\n        CONVERSATION_SENTIMENT,\n        CONVERSATION_DETAILS,\n        PRESIGNED_URL\n    FROM TRANSCRIPTIONS_INSIGHTS;\n    \"\"\").collect()\n\n    session.sql(f\"\"\"\n    INSERT INTO ANALYZED_TRANSCRIPTIONS_APP\n    SELECT \n        DATE,\n        AUDIO_FILE,\n        AUDIOFILE_RELATIVE_PATH,\n        TRANSCRIPTION_DURATION_SECONDS,\n        CONVERSATION_DETAILS['call_to_action']::TEXT as CALL_TO_ACTION,\n        CONVERSATION_DETAILS['claim_number']::TEXT as CLAIM_NUMBER,\n        CONVERSATION_DETAILS['customer']::TEXT as CUSTOMER,\n        CONVERSATION_DETAILS['call_intent']::TEXT as CALL_INTENT,\n        CONVERSATION_DETAILS['issue']::TEXT as ISSUE,\n        CONVERSATION_DETAILS['policy_number']::TEXT as POLICY_NUMBER,\n        CONVERSATION_DETAILS['purpose_of_call']::TEXT as PURPOSE_OF_CALL,\n        CONVERSATION_DETAILS['representative']::TEXT as REPRESENTATIVE,\n        CONVERSATION_DETAILS['resolution']::TEXT as RESOLUTION,\n        CONVERSATION_DETAILS['response_mode']::TEXT as RESPONSE_MODE,\n        CONVERSATION_DETAILS['mode_of_update']::TEXT as MODE_OF_UPDATE,\n        CONVERSATION_DETAILS['next_steps']::TEXT as NEXT_STEPS,\n        IFF(CONVERSATION_SENTIMENT['categories'][0]['sentiment']='positive','Positive','Negative') as CONVERSATION_SENTIMENT,\n        IFF(CONVERSATION_DETAILS['first_call_resolution'] > 0.5,'Yes','No') as FIRST_CALL_RESOLUTION,\n        CONVERSATION_SUMMARY,\n        CONVERSATION_STRUCTURED\n    FROM \n        ANALYZED_TRANSCRIPTIONS\n    WHERE\n        AUDIOFILE_RELATIVE_PATH = '{audio_file_relative_path}'\n    \"\"\").collect()\n\n    return f'Successfully processed file {audio_file_relative_path}.'",
   "execution_count": null
  },
  {
   "cell_type": "code",
   "id": "ee18049d-46da-4920-b369-89a93dae1641",
   "metadata": {
    "language": "sql",
    "name": "AUTOMATE_3"
   },
   "outputs": [],
   "source": "-- CALL process_audio_file('audio_files/2024-11-11/audiofile23.mp3');",
   "execution_count": null
  }
 ]
}